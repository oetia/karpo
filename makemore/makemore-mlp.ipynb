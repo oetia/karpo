{
 "cells": [
  {
   "cell_type": "code",
   "execution_count": 789,
   "metadata": {},
   "outputs": [],
   "source": [
    "import pandas as pd\n",
    "import numpy as np\n",
    "import torch\n",
    "\n",
    "import matplotlib.pyplot as plt\n"
   ]
  },
  {
   "cell_type": "code",
   "execution_count": 790,
   "metadata": {},
   "outputs": [
    {
     "data": {
      "text/html": [
       "<div>\n",
       "<style scoped>\n",
       "    .dataframe tbody tr th:only-of-type {\n",
       "        vertical-align: middle;\n",
       "    }\n",
       "\n",
       "    .dataframe tbody tr th {\n",
       "        vertical-align: top;\n",
       "    }\n",
       "\n",
       "    .dataframe thead th {\n",
       "        text-align: right;\n",
       "    }\n",
       "</style>\n",
       "<table border=\"1\" class=\"dataframe\">\n",
       "  <thead>\n",
       "    <tr style=\"text-align: right;\">\n",
       "      <th></th>\n",
       "      <th>name</th>\n",
       "    </tr>\n",
       "  </thead>\n",
       "  <tbody>\n",
       "    <tr>\n",
       "      <th>0</th>\n",
       "      <td>tsuzumi tatehaya</td>\n",
       "    </tr>\n",
       "    <tr>\n",
       "      <th>1</th>\n",
       "      <td>esther archang</td>\n",
       "    </tr>\n",
       "    <tr>\n",
       "      <th>2</th>\n",
       "      <td>ayano miyamori</td>\n",
       "    </tr>\n",
       "    <tr>\n",
       "      <th>3</th>\n",
       "      <td>myuria rosa gallus</td>\n",
       "    </tr>\n",
       "    <tr>\n",
       "      <th>4</th>\n",
       "      <td>akari kisaragi</td>\n",
       "    </tr>\n",
       "  </tbody>\n",
       "</table>\n",
       "</div>"
      ],
      "text/plain": [
       "                 name\n",
       "0    tsuzumi tatehaya\n",
       "1      esther archang\n",
       "2      ayano miyamori\n",
       "3  myuria rosa gallus\n",
       "4      akari kisaragi"
      ]
     },
     "execution_count": 790,
     "metadata": {},
     "output_type": "execute_result"
    }
   ],
   "source": [
    "hnames = pd.read_csv(\"./data/hnames.csv\", )\n",
    "np.random.seed(16) # inital alphabetical order\n",
    "hnames[\"name\"] = np.random.permutation(hnames[\"name\"])\n",
    "hnames.head()"
   ]
  },
  {
   "cell_type": "code",
   "execution_count": 791,
   "metadata": {},
   "outputs": [],
   "source": [
    "start_token = \".\"\n",
    "end_token = \".\"\n",
    "\n",
    "block_size = 5\n",
    "dist_repr_dim = 2\n",
    "batch_size = 32\n",
    "layer1_neurons = 150"
   ]
  },
  {
   "cell_type": "code",
   "execution_count": 814,
   "metadata": {},
   "outputs": [
    {
     "data": {
      "text/plain": [
       "{'.': 0,\n",
       " ' ': 1,\n",
       " '-': 2,\n",
       " 'a': 3,\n",
       " 'b': 4,\n",
       " 'c': 5,\n",
       " 'd': 6,\n",
       " 'e': 7,\n",
       " 'f': 8,\n",
       " 'g': 9,\n",
       " 'h': 10,\n",
       " 'i': 11,\n",
       " 'j': 12,\n",
       " 'k': 13,\n",
       " 'l': 14,\n",
       " 'm': 15,\n",
       " 'n': 16,\n",
       " 'o': 17,\n",
       " 'p': 18,\n",
       " 'q': 19,\n",
       " 'r': 20,\n",
       " 's': 21,\n",
       " 't': 22,\n",
       " 'u': 23,\n",
       " 'v': 24,\n",
       " 'w': 25,\n",
       " 'x': 26,\n",
       " 'y': 27,\n",
       " 'z': 28}"
      ]
     },
     "execution_count": 814,
     "metadata": {},
     "output_type": "execute_result"
    }
   ],
   "source": [
    "chars = sorted(list(set(\"\".join(hnames[\"name\"]))))\n",
    "chars = [start_token] + chars\n",
    "\n",
    "char_to_idx = {char: idx for idx, char in enumerate(chars)}\n",
    "idx_to_char = {idx: char for idx, char in enumerate(chars)}\n",
    "char_to_idx"
   ]
  },
  {
   "cell_type": "code",
   "execution_count": 793,
   "metadata": {},
   "outputs": [
    {
     "data": {
      "text/plain": [
       "(torch.Size([371786, 5, 29]), torch.float32, torch.Size([371786]), torch.int64)"
      ]
     },
     "execution_count": 793,
     "metadata": {},
     "output_type": "execute_result"
    }
   ],
   "source": [
    "xs = []\n",
    "ys = []\n",
    "for name in hnames[\"name\"]:\n",
    "    name = name + end_token\n",
    "    context = start_token * block_size\n",
    "    for char in name:\n",
    "        xs.append([char_to_idx[ctx_char] for ctx_char in context])\n",
    "        ys.append(char_to_idx[char])\n",
    "        # print(f\"{context} -> {char}\")\n",
    "        \n",
    "        context = context[1:] + char\n",
    "        \n",
    "X = torch.tensor(xs)\n",
    "y = torch.tensor(ys)\n",
    "\n",
    "X_oh: torch.Tensor = torch.nn.functional.one_hot(X).float()\n",
    "\n",
    "X_oh.shape, X_oh.dtype, y.shape, y.dtype"
   ]
  },
  {
   "cell_type": "code",
   "execution_count": 794,
   "metadata": {},
   "outputs": [
    {
     "name": "stdout",
     "output_type": "stream",
     "text": [
      "torch.Size([297428, 5, 29]) torch.Size([297428])\n",
      "torch.Size([37179, 5, 29]) torch.Size([37179])\n",
      "torch.Size([37179, 5, 29]) torch.Size([37179])\n"
     ]
    }
   ],
   "source": [
    "X_oh_train = X_oh[:int(len(X_oh) * 0.8)]\n",
    "y_train = y[:int(len(y) * 0.8)]\n",
    "X_oh_val = X_oh[int(len(X_oh) * 0.8):int(len(X_oh) * 0.9)]\n",
    "y_val = y[int(len(y) * 0.8):int(len(y) * 0.9)]\n",
    "X_oh_test = X_oh[int(len(X_oh) * 0.9):]\n",
    "y_test = y[int(len(y) * 0.9):]\n",
    "\n",
    "print(X_oh_train.shape, y_train.shape)\n",
    "print(X_oh_val.shape, y_val.shape)\n",
    "print(X_oh_test.shape, y_test.shape)"
   ]
  },
  {
   "cell_type": "code",
   "execution_count": 795,
   "metadata": {},
   "outputs": [
    {
     "data": {
      "text/plain": [
       "6087"
      ]
     },
     "execution_count": 795,
     "metadata": {},
     "output_type": "execute_result"
    }
   ],
   "source": [
    "generator = torch.Generator().manual_seed(16)\n",
    "\n",
    "C = torch.randn((len(chars), dist_repr_dim), generator=generator)\n",
    "W1 = torch.randn((block_size * dist_repr_dim, layer1_neurons), generator=generator)\n",
    "b1 = torch.randn((layer1_neurons,), generator=generator)\n",
    "W2 = torch.randn((layer1_neurons, len(chars)), generator=generator)\n",
    "b2 = torch.randn((len(chars),), generator=generator)\n",
    "\n",
    "params = [C, W1, b1, W2, b2]\n",
    "for p in params:\n",
    "    p.requires_grad = True\n",
    "\n",
    "sum([p.nelement() for p in params])"
   ]
  },
  {
   "cell_type": "code",
   "execution_count": 804,
   "metadata": {},
   "outputs": [],
   "source": [
    "# batch_size = 256\n",
    "for idx in range(30000):\n",
    "    batch_idxs = torch.randint(0, X_oh_train.shape[0], (batch_size,))\n",
    "    X_batch = X_oh_train[batch_idxs]\n",
    "    y_batch = y_train[batch_idxs]\n",
    "\n",
    "    emb = X_batch @ C # distributed representation\n",
    "    emb_unbound = emb.unbind(dim=1) # block_size # of (m, dist_repr_dim) matrices\n",
    "    emb = torch.cat(emb_unbound, dim=1) # (m, block_size * dist_repre_dim) matrix\n",
    "    h = (emb @ W1 + b1).tanh()\n",
    "    logits = h @ W2 + b2\n",
    "    # logits_max = logits.max() # avoid e^100 overflow\n",
    "    # logits_behaved = logits - logits_max\n",
    "    # counts = logits_behaved.exp() # softmax\n",
    "    # probs = counts / counts.sum(dim=1, keepdim=True)\n",
    "    # probs_of_interest = probs[torch.arange(logits.shape[0]), y_batch]\n",
    "    # loss = probs_of_interest.log().mean() * -1 # negative log likelihood\n",
    "    loss = torch.nn.functional.cross_entropy(logits, y_batch) # fused kernel + faster backwards (tanh _backward)\n",
    "    # print(loss)\n",
    "\n",
    "    for p in params: # flushing\n",
    "        p.grad = None\n",
    "    loss.backward()\n",
    "    for p in params:\n",
    "        if \n",
    "        p.data += -0.1 * p.grad # 90k iters 2.2 something\n",
    "        # p.data += -0.01 * p.grad # 30k iters 2.0137\n",
    "        # higher batch size 256 # 30k iters 1.996"
   ]
  },
  {
   "cell_type": "code",
   "execution_count": 805,
   "metadata": {},
   "outputs": [
    {
     "data": {
      "text/plain": [
       "tensor(1.9996, grad_fn=<NllLossBackward0>)"
      ]
     },
     "execution_count": 805,
     "metadata": {},
     "output_type": "execute_result"
    }
   ],
   "source": [
    "emb = X_oh_train @ C\n",
    "emb_unbound = emb.unbind(dim=1) # block_size # of (m, dist_repr_dim) matrices\n",
    "emb = torch.cat(emb_unbound, dim=1) # (m, block_size * dist_repre_dim) matrix\n",
    "h = (emb @ W1 + b1).tanh()\n",
    "logits = h @ W2 + b2\n",
    "loss = torch.nn.functional.cross_entropy(logits, y_train) # fused kernel + faster backwards (tanh _backward)\n",
    "loss"
   ]
  },
  {
   "cell_type": "code",
   "execution_count": 806,
   "metadata": {},
   "outputs": [
    {
     "data": {
      "text/plain": [
       "tensor(2.0015, grad_fn=<NllLossBackward0>)"
      ]
     },
     "execution_count": 806,
     "metadata": {},
     "output_type": "execute_result"
    }
   ],
   "source": [
    "emb = X_oh_val @ C\n",
    "emb_unbound = emb.unbind(dim=1) # block_size # of (m, dist_repr_dim) matrices\n",
    "emb = torch.cat(emb_unbound, dim=1) # (m, block_size * dist_repre_dim) matrix\n",
    "h = (emb @ W1 + b1).tanh()\n",
    "logits = h @ W2 + b2\n",
    "loss = torch.nn.functional.cross_entropy(logits, y_val) # fused kernel + faster backwards (tanh _backward)\n",
    "loss"
   ]
  },
  {
   "cell_type": "code",
   "execution_count": 808,
   "metadata": {},
   "outputs": [
    {
     "data": {
      "image/png": "[encoded data removed]",
      "text/plain": [
       "<Figure size 800x800 with 1 Axes>"
      ]
     },
     "metadata": {},
     "output_type": "display_data"
    }
   ],
   "source": [
    "plt.figure(figsize=(8, 8))\n",
    "plt.scatter(C[:, 0].data, C[:, 1].data, s=200)\n",
    "for idx in range(C.shape[0]):\n",
    "    plt.text(C[idx, 0].item(), C[idx, 1].item(), idx_to_char[idx], ha=\"center\", va=\"center\", color=\"white\")\n",
    "plt.grid(\"minor\")"
   ]
  },
  {
   "cell_type": "code",
   "execution_count": 822,
   "metadata": {},
   "outputs": [
    {
     "data": {
      "text/plain": [
       "tensor(True)"
      ]
     },
     "execution_count": 822,
     "metadata": {},
     "output_type": "execute_result"
    }
   ],
   "source": [
    "torch.save(C, \"C.pt\")\n",
    "torch.save(W1, \"W1.pt\")\n",
    "torch.save(b1, \"b1.pt\")\n",
    "torch.save(W2, \"W2.pt\")\n",
    "torch.save(b2, \"b2.pt\")\n",
    "\n",
    "C_test = torch.load(\"C.pt\")\n",
    "(C_test == C).all()"
   ]
  },
  {
   "cell_type": "code",
   "execution_count": 824,
   "metadata": {},
   "outputs": [
    {
     "name": "stdout",
     "output_type": "stream",
     "text": [
      "cayyaki\n",
      "narlyawa\n",
      "lakara\n",
      "sestre\n",
      "yuu\n",
      "eonousu\n",
      "satsubagi\n",
      "rasakine\n",
      "hirlaw\n",
      "sostarugi\n"
     ]
    }
   ],
   "source": [
    "generator = torch.Generator().manual_seed(16)\n",
    "for _ in range(10):\n",
    "    sampled_chars = [0] * block_size\n",
    "    while True:\n",
    "        context = torch.tensor([sampled_chars[-block_size:]])\n",
    "        context: torch.Tensor = torch.nn.functional.one_hot(context, num_classes=len(chars)).float()\n",
    "        emb = torch.cat((context @ C).unbind(dim=1), dim=1)\n",
    "        h = (emb @ W1 + b1).tanh()\n",
    "        logits = h @ W2 + b2\n",
    "        \n",
    "        logits_max = logits.max() # avoid e^100 overflow\n",
    "        logits_behaved = logits - logits_max\n",
    "        counts = logits_behaved.exp() # softmax\n",
    "        probs = counts / counts.sum(dim=1, keepdim=True)\n",
    "        \n",
    "        next_char_idx = torch.multinomial(probs, 1, generator=generator).item()\n",
    "        sampled_chars.append(next_char_idx)\n",
    "        \n",
    "        if sampled_chars[-1] == 0 or sampled_chars[-1] == 1:\n",
    "            sample = \"\".join(idx_to_char[idx] for idx in sampled_chars)\n",
    "            print(sample.replace(\".\", \"\").replace(\" \", \"\"))\n",
    "            break"
   ]
  }
 ],
 "metadata": {
  "kernelspec": {
   "display_name": "dsc80_39",
   "language": "python",
   "name": "python3"
  },
  "language_info": {
   "codemirror_mode": {
    "name": "ipython",
    "version": 3
   },
   "file_extension": ".py",
   "mimetype": "text/x-python",
   "name": "python",
   "nbconvert_exporter": "python",
   "pygments_lexer": "ipython3",
   "version": "3.8.16"
  },
  "orig_nbformat": 4
 },
 "nbformat": 4,
 "nbformat_minor": 2
}
